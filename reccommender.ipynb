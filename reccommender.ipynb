{
 "cells": [
  {
   "cell_type": "code",
   "execution_count": 3,
   "id": "ec789c2d",
   "metadata": {},
   "outputs": [],
   "source": [
    "import pandas as pd\n",
    "from scipy.sparse import csr_matrix\n",
    "from fuzzywuzzy import process"
   ]
  },
  {
   "cell_type": "code",
   "execution_count": 5,
   "id": "4dd9c964",
   "metadata": {},
   "outputs": [
    {
     "data": {
      "text/html": [
       "<div>\n",
       "<style scoped>\n",
       "    .dataframe tbody tr th:only-of-type {\n",
       "        vertical-align: middle;\n",
       "    }\n",
       "\n",
       "    .dataframe tbody tr th {\n",
       "        vertical-align: top;\n",
       "    }\n",
       "\n",
       "    .dataframe thead th {\n",
       "        text-align: right;\n",
       "    }\n",
       "</style>\n",
       "<table border=\"1\" class=\"dataframe\">\n",
       "  <thead>\n",
       "    <tr style=\"text-align: right;\">\n",
       "      <th></th>\n",
       "      <th>movieId</th>\n",
       "      <th>title</th>\n",
       "    </tr>\n",
       "  </thead>\n",
       "  <tbody>\n",
       "    <tr>\n",
       "      <th>0</th>\n",
       "      <td>1</td>\n",
       "      <td>Toy Story (1995)</td>\n",
       "    </tr>\n",
       "    <tr>\n",
       "      <th>1</th>\n",
       "      <td>2</td>\n",
       "      <td>Jumanji (1995)</td>\n",
       "    </tr>\n",
       "    <tr>\n",
       "      <th>2</th>\n",
       "      <td>3</td>\n",
       "      <td>Grumpier Old Men (1995)</td>\n",
       "    </tr>\n",
       "    <tr>\n",
       "      <th>3</th>\n",
       "      <td>4</td>\n",
       "      <td>Waiting to Exhale (1995)</td>\n",
       "    </tr>\n",
       "    <tr>\n",
       "      <th>4</th>\n",
       "      <td>5</td>\n",
       "      <td>Father of the Bride Part II (1995)</td>\n",
       "    </tr>\n",
       "  </tbody>\n",
       "</table>\n",
       "</div>"
      ],
      "text/plain": [
       "   movieId                               title\n",
       "0        1                    Toy Story (1995)\n",
       "1        2                      Jumanji (1995)\n",
       "2        3             Grumpier Old Men (1995)\n",
       "3        4            Waiting to Exhale (1995)\n",
       "4        5  Father of the Bride Part II (1995)"
      ]
     },
     "execution_count": 5,
     "metadata": {},
     "output_type": "execute_result"
    }
   ],
   "source": [
    "movies = pd.read_csv('movies.csv', usecols=['movieId', 'title'])\n",
    "movies.head()"
   ]
  },
  {
   "cell_type": "code",
   "execution_count": 9,
   "id": "6a776ab5",
   "metadata": {},
   "outputs": [],
   "source": [
    "movies_users = pd.read_csv('ratings.csv', usecols = ['userId','movieId','rating'])"
   ]
  },
  {
   "cell_type": "code",
   "execution_count": 13,
   "id": "5d4ee13f",
   "metadata": {},
   "outputs": [],
   "source": [
    "mat_movies = csr_matrix(movies_users.values)"
   ]
  },
  {
   "cell_type": "code",
   "execution_count": 15,
   "id": "41eed015",
   "metadata": {},
   "outputs": [
    {
     "data": {
      "text/plain": [
       "NearestNeighbors(algorithm='brute', metric='cosine', n_neighbors=20)"
      ]
     },
     "execution_count": 15,
     "metadata": {},
     "output_type": "execute_result"
    }
   ],
   "source": [
    "from sklearn.neighbors import NearestNeighbors\n",
    "model = NearestNeighbors(metric = 'cosine', algorithm = 'brute', n_neighbors = 20)\n",
    "model.fit(mat_movies)"
   ]
  },
  {
   "cell_type": "code",
   "execution_count": 24,
   "id": "91e41684",
   "metadata": {},
   "outputs": [],
   "source": [
    "def recommender(movie_name, data, n):\n",
    "    idx = process.extractOne(movie_name, movies['title'])[2]\n",
    "    #print('Movie Selected : ', movies['title'],[idx], 'Index : ',idx)\n",
    "    print('Searching for recommendation .......')\n",
    "    distance, indices = model.kneighbors(data[idx], n_neighbors = n)\n",
    "    for i in indices:\n",
    "        print(movies['title'][i].where(i!=idx))"
   ]
  },
  {
   "cell_type": "code",
   "execution_count": 33,
   "id": "7737a8d0",
   "metadata": {},
   "outputs": [
    {
     "name": "stdout",
     "output_type": "stream",
     "text": [
      "Searching for recommendation .......\n",
      "570                        NaN\n",
      "571      Delta of Venus (1995)\n",
      "572               Angus (1995)\n",
      "569          True Crime (1996)\n",
      "1029    Burnt Offerings (1976)\n",
      "575         Sunset Park (1996)\n",
      "568     Substitute, The (1996)\n",
      "1390              Mulan (1998)\n",
      "2981             Quills (2000)\n",
      "1780     Police Academy (1984)\n",
      "Name: title, dtype: object\n"
     ]
    }
   ],
   "source": [
    "recommender('Feeling Minnesota', mat_movies, 10)"
   ]
  },
  {
   "cell_type": "code",
   "execution_count": null,
   "id": "fdf4bee4",
   "metadata": {},
   "outputs": [],
   "source": []
  }
 ],
 "metadata": {
  "kernelspec": {
   "display_name": "Python 3 (ipykernel)",
   "language": "python",
   "name": "python3"
  },
  "language_info": {
   "codemirror_mode": {
    "name": "ipython",
    "version": 3
   },
   "file_extension": ".py",
   "mimetype": "text/x-python",
   "name": "python",
   "nbconvert_exporter": "python",
   "pygments_lexer": "ipython3",
   "version": "3.9.12"
  }
 },
 "nbformat": 4,
 "nbformat_minor": 5
}
